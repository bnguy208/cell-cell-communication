{
 "cells": [
  {
   "cell_type": "markdown",
   "metadata": {},
   "source": [
    "## Cell Chat"
   ]
  },
  {
   "cell_type": "code",
   "execution_count": 21,
   "metadata": {
    "execution": {
     "iopub.execute_input": "2024-10-23T22:36:51.044652Z",
     "iopub.status.busy": "2024-10-23T22:36:51.044006Z",
     "iopub.status.idle": "2024-10-23T22:36:51.050973Z",
     "shell.execute_reply": "2024-10-23T22:36:51.049991Z",
     "shell.execute_reply.started": "2024-10-23T22:36:51.044594Z"
    }
   },
   "outputs": [],
   "source": [
    "import pandas as pd\n",
    "import rpy2.robjects as robjects\n",
    "from rpy2.robjects import pandas2ri\n",
    "from rpy2.robjects.packages import importr"
   ]
  },
  {
   "cell_type": "code",
   "execution_count": 22,
   "metadata": {
    "execution": {
     "iopub.execute_input": "2024-10-23T22:37:06.606585Z",
     "iopub.status.busy": "2024-10-23T22:37:06.605946Z",
     "iopub.status.idle": "2024-10-23T22:37:06.612876Z",
     "shell.execute_reply": "2024-10-23T22:37:06.611887Z",
     "shell.execute_reply.started": "2024-10-23T22:37:06.606526Z"
    }
   },
   "outputs": [],
   "source": [
    "pandas2ri.activate()"
   ]
  },
  {
   "cell_type": "code",
   "execution_count": 25,
   "metadata": {
    "execution": {
     "iopub.execute_input": "2024-10-23T22:39:00.027394Z",
     "iopub.status.busy": "2024-10-23T22:39:00.026745Z",
     "iopub.status.idle": "2024-10-23T22:40:13.784233Z",
     "shell.execute_reply": "2024-10-23T22:40:13.783484Z",
     "shell.execute_reply.started": "2024-10-23T22:39:00.027339Z"
    },
    "scrolled": true
   },
   "outputs": [
    {
     "name": "stderr",
     "output_type": "stream",
     "text": [
      "R[write to console]: Warning in (function (pkgs, lib, repos = getOption(\"repos\"), contriburl = contrib.url(repos,  :\n",
      "R[write to console]: \n",
      " \n",
      "R[write to console]:  'lib = \"/app/software/R/4.4.0-gfbf-2023b/lib/R/library\"' is not writable\n",
      "\n"
     ]
    },
    {
     "name": "stdin",
     "output_type": "stream",
     "text": [
      "Would you like to use a personal library instead? (yes/No/cancel)  yes\n",
      "Would you like to create a personal library\n",
      "‘/home/bnguyen3/R/x86_64-pc-linux-gnu-library/4.4’\n",
      "to install packages into? (yes/No/cancel)  yes\n"
     ]
    },
    {
     "name": "stdout",
     "output_type": "stream",
     "text": [
      "--- Please select a CRAN mirror for use in this session ---\n",
      "Secure CRAN mirrors \n",
      "\n",
      " 1: 0-Cloud [https]\n",
      " 2: Australia (Canberra) [https]\n",
      " 3: Australia (Melbourne 1) [https]\n",
      " 4: Australia (Melbourne 2) [https]\n",
      " 5: Austria (Wien 1) [https]\n",
      " 6: Belgium (Brussels) [https]\n",
      " 7: Brazil (PR) [https]\n",
      " 8: Brazil (SP 1) [https]\n",
      " 9: Brazil (SP 2) [https]\n",
      "10: Bulgaria [https]\n",
      "11: Canada (MB) [https]\n",
      "12: Canada (ON 1) [https]\n",
      "13: Canada (ON 2) [https]\n",
      "14: Chile (Santiago) [https]\n",
      "15: China (Beijing 2) [https]\n",
      "16: China (Beijing 3) [https]\n",
      "17: China (Hefei) [https]\n",
      "18: China (Hong Kong) [https]\n",
      "19: China (Guangzhou) [https]\n",
      "20: China (Jinan) [https]\n",
      "21: China (Nanjing) [https]\n",
      "22: China (Shanghai 2) [https]\n",
      "23: China (Shenzhen) [https]\n",
      "24: China (Wuhan) [https]\n",
      "25: Colombia (Cali) [https]\n",
      "26: Costa Rica [https]\n",
      "27: Cyprus [https]\n",
      "28: Czech Republic [https]\n",
      "29: Denmark [https]\n",
      "30: East Asia [https]\n",
      "31: Ecuador (Cuenca) [https]\n",
      "32: France (Lyon 1) [https]\n",
      "33: France (Lyon 2) [https]\n",
      "34: France (Marseille) [https]\n",
      "35: France (Paris 1) [https]\n",
      "36: Germany (Erlangen) [https]\n",
      "37: Germany (Göttingen) [https]\n",
      "38: Germany (Leipzig) [https]\n",
      "39: Germany (Münster) [https]\n",
      "40: Greece [https]\n",
      "41: Iceland [https]\n",
      "42: India (Bengaluru) [https]\n",
      "43: India (Bhubaneswar) [https]\n",
      "44: Indonesia (Banda Aceh) [https]\n",
      "45: Iran (Mashhad) [https]\n",
      "46: Italy (Milano) [https]\n",
      "47: Italy (Padua) [https]\n",
      "48: Japan (Yonezawa) [https]\n",
      "49: Korea (Gyeongsan-si) [https]\n",
      "50: Mexico (Mexico City) [https]\n",
      "51: Mexico (Texcoco) [https]\n",
      "52: Morocco [https]\n",
      "53: Netherlands (Dronten) [https]\n",
      "54: New Zealand [https]\n",
      "55: Norway [https]\n",
      "56: South Africa (Johannesburg) [https]\n",
      "57: Spain (A Coruña) [https]\n",
      "58: Spain (Madrid) [https]\n",
      "59: Sweden (Umeå) [https]\n",
      "60: Switzerland (Zurich 1) [https]\n",
      "61: Taiwan (Taipei) [https]\n",
      "62: Turkey (Denizli) [https]\n",
      "63: Turkey (Istanbul) [https]\n",
      "64: UK (Bristol) [https]\n",
      "65: UK (London 1) [https]\n",
      "66: USA (IA) [https]\n",
      "67: USA (MI) [https]\n",
      "68: USA (MO) [https]\n",
      "69: USA (OH) [https]\n",
      "70: USA (OR) [https]\n",
      "71: USA (PA 1) [https]\n",
      "72: USA (TN) [https]\n",
      "73: USA (UT) [https]\n",
      "74: United Arab Emirates [https]\n",
      "75: Uruguay [https]\n",
      "76: (other mirrors)\n",
      "\n"
     ]
    },
    {
     "name": "stdin",
     "output_type": "stream",
     "text": [
      "Selection:  1\n"
     ]
    },
    {
     "name": "stderr",
     "output_type": "stream",
     "text": [
      "R[write to console]: also installing the dependencies ‘generics’, ‘tidyselect’\n",
      "\n",
      "\n",
      "R[write to console]: trying URL 'https://cloud.r-project.org/src/contrib/generics_0.1.3.tar.gz'\n",
      "\n",
      "R[write to console]: Content type 'application/x-gzip'\n",
      "R[write to console]:  length 172201 bytes (168 KB)\n",
      "\n",
      "R[write to console]: =\n",
      "R[write to console]: =\n",
      "R[write to console]: =\n",
      "R[write to console]: =\n",
      "R[write to console]: =\n",
      "R[write to console]: =\n",
      "R[write to console]: =\n",
      "R[write to console]: =\n",
      "R[write to console]: =\n",
      "R[write to console]: =\n",
      "R[write to console]: =\n",
      "R[write to console]: =\n",
      "R[write to console]: =\n",
      "R[write to console]: =\n",
      "R[write to console]: =\n",
      "R[write to console]: =\n",
      "R[write to console]: =\n",
      "R[write to console]: =\n",
      "R[write to console]: =\n",
      "R[write to console]: =\n",
      "R[write to console]: =\n",
      "R[write to console]: =\n",
      "R[write to console]: =\n",
      "R[write to console]: =\n",
      "R[write to console]: =\n",
      "R[write to console]: =\n",
      "R[write to console]: =\n",
      "R[write to console]: =\n",
      "R[write to console]: =\n",
      "R[write to console]: =\n",
      "R[write to console]: =\n",
      "R[write to console]: =\n",
      "R[write to console]: =\n",
      "R[write to console]: =\n",
      "R[write to console]: =\n",
      "R[write to console]: =\n",
      "R[write to console]: =\n",
      "R[write to console]: =\n",
      "R[write to console]: =\n",
      "R[write to console]: =\n",
      "R[write to console]: =\n",
      "R[write to console]: =\n",
      "R[write to console]: =\n",
      "R[write to console]: =\n",
      "R[write to console]: =\n",
      "R[write to console]: =\n",
      "R[write to console]: =\n",
      "R[write to console]: =\n",
      "R[write to console]: =\n",
      "R[write to console]: =\n",
      "R[write to console]: \n",
      "\n",
      "R[write to console]: downloaded 168 KB\n",
      "\n",
      "\n",
      "R[write to console]: trying URL 'https://cloud.r-project.org/src/contrib/tidyselect_1.2.1.tar.gz'\n",
      "\n",
      "R[write to console]: Content type 'application/x-gzip'\n",
      "R[write to console]:  length 103591 bytes (101 KB)\n",
      "\n",
      "R[write to console]: =\n",
      "R[write to console]: =\n",
      "R[write to console]: =\n",
      "R[write to console]: =\n",
      "R[write to console]: =\n",
      "R[write to console]: =\n",
      "R[write to console]: =\n",
      "R[write to console]: =\n",
      "R[write to console]: =\n",
      "R[write to console]: =\n",
      "R[write to console]: =\n",
      "R[write to console]: =\n",
      "R[write to console]: =\n",
      "R[write to console]: =\n",
      "R[write to console]: =\n",
      "R[write to console]: =\n",
      "R[write to console]: =\n",
      "R[write to console]: =\n",
      "R[write to console]: =\n",
      "R[write to console]: =\n",
      "R[write to console]: =\n",
      "R[write to console]: =\n",
      "R[write to console]: =\n",
      "R[write to console]: =\n",
      "R[write to console]: =\n",
      "R[write to console]: =\n",
      "R[write to console]: =\n",
      "R[write to console]: =\n",
      "R[write to console]: =\n",
      "R[write to console]: =\n",
      "R[write to console]: =\n",
      "R[write to console]: =\n",
      "R[write to console]: =\n",
      "R[write to console]: =\n",
      "R[write to console]: =\n",
      "R[write to console]: =\n",
      "R[write to console]: =\n",
      "R[write to console]: =\n",
      "R[write to console]: =\n",
      "R[write to console]: =\n",
      "R[write to console]: =\n",
      "R[write to console]: =\n",
      "R[write to console]: =\n",
      "R[write to console]: =\n",
      "R[write to console]: =\n",
      "R[write to console]: =\n",
      "R[write to console]: =\n",
      "R[write to console]: =\n",
      "R[write to console]: =\n",
      "R[write to console]: =\n",
      "R[write to console]: \n",
      "\n",
      "R[write to console]: downloaded 101 KB\n",
      "\n",
      "\n",
      "R[write to console]: trying URL 'https://cloud.r-project.org/src/contrib/dplyr_1.1.4.tar.gz'\n",
      "\n",
      "R[write to console]: Content type 'application/x-gzip'\n",
      "R[write to console]:  length 1207521 bytes (1.2 MB)\n",
      "\n",
      "R[write to console]: =\n",
      "R[write to console]: =\n",
      "R[write to console]: =\n",
      "R[write to console]: =\n",
      "R[write to console]: =\n",
      "R[write to console]: =\n",
      "R[write to console]: =\n",
      "R[write to console]: =\n",
      "R[write to console]: =\n",
      "R[write to console]: =\n",
      "R[write to console]: =\n",
      "R[write to console]: =\n",
      "R[write to console]: =\n",
      "R[write to console]: =\n",
      "R[write to console]: =\n",
      "R[write to console]: =\n",
      "R[write to console]: =\n",
      "R[write to console]: =\n",
      "R[write to console]: =\n",
      "R[write to console]: =\n",
      "R[write to console]: =\n",
      "R[write to console]: =\n",
      "R[write to console]: =\n",
      "R[write to console]: =\n",
      "R[write to console]: =\n",
      "R[write to console]: =\n",
      "R[write to console]: =\n",
      "R[write to console]: =\n",
      "R[write to console]: =\n",
      "R[write to console]: =\n",
      "R[write to console]: =\n",
      "R[write to console]: =\n",
      "R[write to console]: =\n",
      "R[write to console]: =\n",
      "R[write to console]: =\n",
      "R[write to console]: =\n",
      "R[write to console]: =\n",
      "R[write to console]: =\n",
      "R[write to console]: =\n",
      "R[write to console]: =\n",
      "R[write to console]: =\n",
      "R[write to console]: =\n",
      "R[write to console]: =\n",
      "R[write to console]: =\n",
      "R[write to console]: =\n",
      "R[write to console]: =\n",
      "R[write to console]: =\n",
      "R[write to console]: =\n",
      "R[write to console]: =\n",
      "R[write to console]: =\n",
      "R[write to console]: \n",
      "\n",
      "R[write to console]: downloaded 1.2 MB\n",
      "\n",
      "\n",
      "* installing *source* package ‘generics’ ...\n",
      "** package ‘generics’ successfully unpacked and MD5 sums checked\n",
      "** using staged installation\n",
      "** R\n",
      "** byte-compile and prepare package for lazy loading\n",
      "** help\n",
      "*** installing help indices\n",
      "** building package indices\n",
      "** testing if installed package can be loaded from temporary location\n",
      "** testing if installed package can be loaded from final location\n",
      "** testing if installed package keeps a record of temporary installation path\n",
      "* DONE (generics)\n",
      "* installing *source* package ‘tidyselect’ ...\n",
      "** package ‘tidyselect’ successfully unpacked and MD5 sums checked\n",
      "** using staged installation\n",
      "** R\n",
      "** inst\n",
      "** byte-compile and prepare package for lazy loading\n",
      "** help\n",
      "*** installing help indices\n",
      "** building package indices\n",
      "** installing vignettes\n",
      "** testing if installed package can be loaded from temporary location\n",
      "** testing if installed package can be loaded from final location\n",
      "** testing if installed package keeps a record of temporary installation path\n",
      "* DONE (tidyselect)\n",
      "* installing *source* package ‘dplyr’ ...\n",
      "** package ‘dplyr’ successfully unpacked and MD5 sums checked\n",
      "** using staged installation\n",
      "** libs\n",
      "using C++ compiler: ‘g++ (GCC) 13.2.0’\n"
     ]
    },
    {
     "name": "stdout",
     "output_type": "stream",
     "text": [
      "g++ -std=gnu++17 -I\"/app/software/R/4.4.0-gfbf-2023b/lib/R/include\" -DNDEBUG   -I/app/software/FriBidi/1.0.13-GCCcore-13.2.0/include -I/app/software/HarfBuzz/8.2.2-GCCcore-13.2.0/include -I/app/software/Tk/8.6.13-GCCcore-13.2.0/include -I/app/software/cURL/8.3.0-GCCcore-13.2.0/include -I/app/software/OpenSSL/1.1/include -I/app/software/libgit2/1.7.2-GCCcore-13.2.0/include -I/app/software/Java/11.0.2/include -I/app/software/LibTIFF/4.6.0-GCCcore-13.2.0/include -I/app/software/libjpeg-turbo/3.0.1-GCCcore-13.2.0/include -I/app/software/libpng/1.6.40-GCCcore-13.2.0/include -I/app/software/PCRE2/10.42-GCCcore-13.2.0/include -I/app/software/SQLite/3.43.1-GCCcore-13.2.0/include -I/app/software/zlib/1.2.13-GCCcore-13.2.0/include -I/app/software/XZ/5.4.4-GCCcore-13.2.0/include -I/app/software/bzip2/1.0.8-GCCcore-13.2.0/include -I/app/software/ncurses/6.4-GCCcore-13.2.0/include -I/app/software/libreadline/8.2-GCCcore-13.2.0/include -I/app/software/cairo/1.18.0-GCCcore-13.2.0/include -I/app/software/libGLU/9.0.3-GCCcore-13.2.0/include -I/app/software/Mesa/23.1.9-GCCcore-13.2.0/include -I/app/software/X11/20231019-GCCcore-13.2.0/include -I/app/software/pkgconf/2.0.3-GCCcore-13.2.0/include -I/app/software/FFTW/3.3.10-GCC-13.2.0/include -I/app/software/FlexiBLAS/3.3.1-GCC-13.2.0/include -I/app/software/FlexiBLAS/3.3.1-GCC-13.2.0/include/flexiblas    -fpic  -O2 -ftree-vectorize -march=native -fno-math-errno   -c chop.cpp -o chop.o\n",
      "g++ -std=gnu++17 -I\"/app/software/R/4.4.0-gfbf-2023b/lib/R/include\" -DNDEBUG   -I/app/software/FriBidi/1.0.13-GCCcore-13.2.0/include -I/app/software/HarfBuzz/8.2.2-GCCcore-13.2.0/include -I/app/software/Tk/8.6.13-GCCcore-13.2.0/include -I/app/software/cURL/8.3.0-GCCcore-13.2.0/include -I/app/software/OpenSSL/1.1/include -I/app/software/libgit2/1.7.2-GCCcore-13.2.0/include -I/app/software/Java/11.0.2/include -I/app/software/LibTIFF/4.6.0-GCCcore-13.2.0/include -I/app/software/libjpeg-turbo/3.0.1-GCCcore-13.2.0/include -I/app/software/libpng/1.6.40-GCCcore-13.2.0/include -I/app/software/PCRE2/10.42-GCCcore-13.2.0/include -I/app/software/SQLite/3.43.1-GCCcore-13.2.0/include -I/app/software/zlib/1.2.13-GCCcore-13.2.0/include -I/app/software/XZ/5.4.4-GCCcore-13.2.0/include -I/app/software/bzip2/1.0.8-GCCcore-13.2.0/include -I/app/software/ncurses/6.4-GCCcore-13.2.0/include -I/app/software/libreadline/8.2-GCCcore-13.2.0/include -I/app/software/cairo/1.18.0-GCCcore-13.2.0/include -I/app/software/libGLU/9.0.3-GCCcore-13.2.0/include -I/app/software/Mesa/23.1.9-GCCcore-13.2.0/include -I/app/software/X11/20231019-GCCcore-13.2.0/include -I/app/software/pkgconf/2.0.3-GCCcore-13.2.0/include -I/app/software/FFTW/3.3.10-GCC-13.2.0/include -I/app/software/FlexiBLAS/3.3.1-GCC-13.2.0/include -I/app/software/FlexiBLAS/3.3.1-GCC-13.2.0/include/flexiblas    -fpic  -O2 -ftree-vectorize -march=native -fno-math-errno   -c filter.cpp -o filter.o\n",
      "g++ -std=gnu++17 -I\"/app/software/R/4.4.0-gfbf-2023b/lib/R/include\" -DNDEBUG   -I/app/software/FriBidi/1.0.13-GCCcore-13.2.0/include -I/app/software/HarfBuzz/8.2.2-GCCcore-13.2.0/include -I/app/software/Tk/8.6.13-GCCcore-13.2.0/include -I/app/software/cURL/8.3.0-GCCcore-13.2.0/include -I/app/software/OpenSSL/1.1/include -I/app/software/libgit2/1.7.2-GCCcore-13.2.0/include -I/app/software/Java/11.0.2/include -I/app/software/LibTIFF/4.6.0-GCCcore-13.2.0/include -I/app/software/libjpeg-turbo/3.0.1-GCCcore-13.2.0/include -I/app/software/libpng/1.6.40-GCCcore-13.2.0/include -I/app/software/PCRE2/10.42-GCCcore-13.2.0/include -I/app/software/SQLite/3.43.1-GCCcore-13.2.0/include -I/app/software/zlib/1.2.13-GCCcore-13.2.0/include -I/app/software/XZ/5.4.4-GCCcore-13.2.0/include -I/app/software/bzip2/1.0.8-GCCcore-13.2.0/include -I/app/software/ncurses/6.4-GCCcore-13.2.0/include -I/app/software/libreadline/8.2-GCCcore-13.2.0/include -I/app/software/cairo/1.18.0-GCCcore-13.2.0/include -I/app/software/libGLU/9.0.3-GCCcore-13.2.0/include -I/app/software/Mesa/23.1.9-GCCcore-13.2.0/include -I/app/software/X11/20231019-GCCcore-13.2.0/include -I/app/software/pkgconf/2.0.3-GCCcore-13.2.0/include -I/app/software/FFTW/3.3.10-GCC-13.2.0/include -I/app/software/FlexiBLAS/3.3.1-GCC-13.2.0/include -I/app/software/FlexiBLAS/3.3.1-GCC-13.2.0/include/flexiblas    -fpic  -O2 -ftree-vectorize -march=native -fno-math-errno   -c funs.cpp -o funs.o\n",
      "g++ -std=gnu++17 -I\"/app/software/R/4.4.0-gfbf-2023b/lib/R/include\" -DNDEBUG   -I/app/software/FriBidi/1.0.13-GCCcore-13.2.0/include -I/app/software/HarfBuzz/8.2.2-GCCcore-13.2.0/include -I/app/software/Tk/8.6.13-GCCcore-13.2.0/include -I/app/software/cURL/8.3.0-GCCcore-13.2.0/include -I/app/software/OpenSSL/1.1/include -I/app/software/libgit2/1.7.2-GCCcore-13.2.0/include -I/app/software/Java/11.0.2/include -I/app/software/LibTIFF/4.6.0-GCCcore-13.2.0/include -I/app/software/libjpeg-turbo/3.0.1-GCCcore-13.2.0/include -I/app/software/libpng/1.6.40-GCCcore-13.2.0/include -I/app/software/PCRE2/10.42-GCCcore-13.2.0/include -I/app/software/SQLite/3.43.1-GCCcore-13.2.0/include -I/app/software/zlib/1.2.13-GCCcore-13.2.0/include -I/app/software/XZ/5.4.4-GCCcore-13.2.0/include -I/app/software/bzip2/1.0.8-GCCcore-13.2.0/include -I/app/software/ncurses/6.4-GCCcore-13.2.0/include -I/app/software/libreadline/8.2-GCCcore-13.2.0/include -I/app/software/cairo/1.18.0-GCCcore-13.2.0/include -I/app/software/libGLU/9.0.3-GCCcore-13.2.0/include -I/app/software/Mesa/23.1.9-GCCcore-13.2.0/include -I/app/software/X11/20231019-GCCcore-13.2.0/include -I/app/software/pkgconf/2.0.3-GCCcore-13.2.0/include -I/app/software/FFTW/3.3.10-GCC-13.2.0/include -I/app/software/FlexiBLAS/3.3.1-GCC-13.2.0/include -I/app/software/FlexiBLAS/3.3.1-GCC-13.2.0/include/flexiblas    -fpic  -O2 -ftree-vectorize -march=native -fno-math-errno   -c group_by.cpp -o group_by.o\n",
      "g++ -std=gnu++17 -I\"/app/software/R/4.4.0-gfbf-2023b/lib/R/include\" -DNDEBUG   -I/app/software/FriBidi/1.0.13-GCCcore-13.2.0/include -I/app/software/HarfBuzz/8.2.2-GCCcore-13.2.0/include -I/app/software/Tk/8.6.13-GCCcore-13.2.0/include -I/app/software/cURL/8.3.0-GCCcore-13.2.0/include -I/app/software/OpenSSL/1.1/include -I/app/software/libgit2/1.7.2-GCCcore-13.2.0/include -I/app/software/Java/11.0.2/include -I/app/software/LibTIFF/4.6.0-GCCcore-13.2.0/include -I/app/software/libjpeg-turbo/3.0.1-GCCcore-13.2.0/include -I/app/software/libpng/1.6.40-GCCcore-13.2.0/include -I/app/software/PCRE2/10.42-GCCcore-13.2.0/include -I/app/software/SQLite/3.43.1-GCCcore-13.2.0/include -I/app/software/zlib/1.2.13-GCCcore-13.2.0/include -I/app/software/XZ/5.4.4-GCCcore-13.2.0/include -I/app/software/bzip2/1.0.8-GCCcore-13.2.0/include -I/app/software/ncurses/6.4-GCCcore-13.2.0/include -I/app/software/libreadline/8.2-GCCcore-13.2.0/include -I/app/software/cairo/1.18.0-GCCcore-13.2.0/include -I/app/software/libGLU/9.0.3-GCCcore-13.2.0/include -I/app/software/Mesa/23.1.9-GCCcore-13.2.0/include -I/app/software/X11/20231019-GCCcore-13.2.0/include -I/app/software/pkgconf/2.0.3-GCCcore-13.2.0/include -I/app/software/FFTW/3.3.10-GCC-13.2.0/include -I/app/software/FlexiBLAS/3.3.1-GCC-13.2.0/include -I/app/software/FlexiBLAS/3.3.1-GCC-13.2.0/include/flexiblas    -fpic  -O2 -ftree-vectorize -march=native -fno-math-errno   -c group_data.cpp -o group_data.o\n",
      "g++ -std=gnu++17 -I\"/app/software/R/4.4.0-gfbf-2023b/lib/R/include\" -DNDEBUG   -I/app/software/FriBidi/1.0.13-GCCcore-13.2.0/include -I/app/software/HarfBuzz/8.2.2-GCCcore-13.2.0/include -I/app/software/Tk/8.6.13-GCCcore-13.2.0/include -I/app/software/cURL/8.3.0-GCCcore-13.2.0/include -I/app/software/OpenSSL/1.1/include -I/app/software/libgit2/1.7.2-GCCcore-13.2.0/include -I/app/software/Java/11.0.2/include -I/app/software/LibTIFF/4.6.0-GCCcore-13.2.0/include -I/app/software/libjpeg-turbo/3.0.1-GCCcore-13.2.0/include -I/app/software/libpng/1.6.40-GCCcore-13.2.0/include -I/app/software/PCRE2/10.42-GCCcore-13.2.0/include -I/app/software/SQLite/3.43.1-GCCcore-13.2.0/include -I/app/software/zlib/1.2.13-GCCcore-13.2.0/include -I/app/software/XZ/5.4.4-GCCcore-13.2.0/include -I/app/software/bzip2/1.0.8-GCCcore-13.2.0/include -I/app/software/ncurses/6.4-GCCcore-13.2.0/include -I/app/software/libreadline/8.2-GCCcore-13.2.0/include -I/app/software/cairo/1.18.0-GCCcore-13.2.0/include -I/app/software/libGLU/9.0.3-GCCcore-13.2.0/include -I/app/software/Mesa/23.1.9-GCCcore-13.2.0/include -I/app/software/X11/20231019-GCCcore-13.2.0/include -I/app/software/pkgconf/2.0.3-GCCcore-13.2.0/include -I/app/software/FFTW/3.3.10-GCC-13.2.0/include -I/app/software/FlexiBLAS/3.3.1-GCC-13.2.0/include -I/app/software/FlexiBLAS/3.3.1-GCC-13.2.0/include/flexiblas    -fpic  -O2 -ftree-vectorize -march=native -fno-math-errno   -c imports.cpp -o imports.o\n",
      "g++ -std=gnu++17 -I\"/app/software/R/4.4.0-gfbf-2023b/lib/R/include\" -DNDEBUG   -I/app/software/FriBidi/1.0.13-GCCcore-13.2.0/include -I/app/software/HarfBuzz/8.2.2-GCCcore-13.2.0/include -I/app/software/Tk/8.6.13-GCCcore-13.2.0/include -I/app/software/cURL/8.3.0-GCCcore-13.2.0/include -I/app/software/OpenSSL/1.1/include -I/app/software/libgit2/1.7.2-GCCcore-13.2.0/include -I/app/software/Java/11.0.2/include -I/app/software/LibTIFF/4.6.0-GCCcore-13.2.0/include -I/app/software/libjpeg-turbo/3.0.1-GCCcore-13.2.0/include -I/app/software/libpng/1.6.40-GCCcore-13.2.0/include -I/app/software/PCRE2/10.42-GCCcore-13.2.0/include -I/app/software/SQLite/3.43.1-GCCcore-13.2.0/include -I/app/software/zlib/1.2.13-GCCcore-13.2.0/include -I/app/software/XZ/5.4.4-GCCcore-13.2.0/include -I/app/software/bzip2/1.0.8-GCCcore-13.2.0/include -I/app/software/ncurses/6.4-GCCcore-13.2.0/include -I/app/software/libreadline/8.2-GCCcore-13.2.0/include -I/app/software/cairo/1.18.0-GCCcore-13.2.0/include -I/app/software/libGLU/9.0.3-GCCcore-13.2.0/include -I/app/software/Mesa/23.1.9-GCCcore-13.2.0/include -I/app/software/X11/20231019-GCCcore-13.2.0/include -I/app/software/pkgconf/2.0.3-GCCcore-13.2.0/include -I/app/software/FFTW/3.3.10-GCC-13.2.0/include -I/app/software/FlexiBLAS/3.3.1-GCC-13.2.0/include -I/app/software/FlexiBLAS/3.3.1-GCC-13.2.0/include/flexiblas    -fpic  -O2 -ftree-vectorize -march=native -fno-math-errno   -c init.cpp -o init.o\n",
      "g++ -std=gnu++17 -I\"/app/software/R/4.4.0-gfbf-2023b/lib/R/include\" -DNDEBUG   -I/app/software/FriBidi/1.0.13-GCCcore-13.2.0/include -I/app/software/HarfBuzz/8.2.2-GCCcore-13.2.0/include -I/app/software/Tk/8.6.13-GCCcore-13.2.0/include -I/app/software/cURL/8.3.0-GCCcore-13.2.0/include -I/app/software/OpenSSL/1.1/include -I/app/software/libgit2/1.7.2-GCCcore-13.2.0/include -I/app/software/Java/11.0.2/include -I/app/software/LibTIFF/4.6.0-GCCcore-13.2.0/include -I/app/software/libjpeg-turbo/3.0.1-GCCcore-13.2.0/include -I/app/software/libpng/1.6.40-GCCcore-13.2.0/include -I/app/software/PCRE2/10.42-GCCcore-13.2.0/include -I/app/software/SQLite/3.43.1-GCCcore-13.2.0/include -I/app/software/zlib/1.2.13-GCCcore-13.2.0/include -I/app/software/XZ/5.4.4-GCCcore-13.2.0/include -I/app/software/bzip2/1.0.8-GCCcore-13.2.0/include -I/app/software/ncurses/6.4-GCCcore-13.2.0/include -I/app/software/libreadline/8.2-GCCcore-13.2.0/include -I/app/software/cairo/1.18.0-GCCcore-13.2.0/include -I/app/software/libGLU/9.0.3-GCCcore-13.2.0/include -I/app/software/Mesa/23.1.9-GCCcore-13.2.0/include -I/app/software/X11/20231019-GCCcore-13.2.0/include -I/app/software/pkgconf/2.0.3-GCCcore-13.2.0/include -I/app/software/FFTW/3.3.10-GCC-13.2.0/include -I/app/software/FlexiBLAS/3.3.1-GCC-13.2.0/include -I/app/software/FlexiBLAS/3.3.1-GCC-13.2.0/include/flexiblas    -fpic  -O2 -ftree-vectorize -march=native -fno-math-errno   -c mask.cpp -o mask.o\n",
      "g++ -std=gnu++17 -I\"/app/software/R/4.4.0-gfbf-2023b/lib/R/include\" -DNDEBUG   -I/app/software/FriBidi/1.0.13-GCCcore-13.2.0/include -I/app/software/HarfBuzz/8.2.2-GCCcore-13.2.0/include -I/app/software/Tk/8.6.13-GCCcore-13.2.0/include -I/app/software/cURL/8.3.0-GCCcore-13.2.0/include -I/app/software/OpenSSL/1.1/include -I/app/software/libgit2/1.7.2-GCCcore-13.2.0/include -I/app/software/Java/11.0.2/include -I/app/software/LibTIFF/4.6.0-GCCcore-13.2.0/include -I/app/software/libjpeg-turbo/3.0.1-GCCcore-13.2.0/include -I/app/software/libpng/1.6.40-GCCcore-13.2.0/include -I/app/software/PCRE2/10.42-GCCcore-13.2.0/include -I/app/software/SQLite/3.43.1-GCCcore-13.2.0/include -I/app/software/zlib/1.2.13-GCCcore-13.2.0/include -I/app/software/XZ/5.4.4-GCCcore-13.2.0/include -I/app/software/bzip2/1.0.8-GCCcore-13.2.0/include -I/app/software/ncurses/6.4-GCCcore-13.2.0/include -I/app/software/libreadline/8.2-GCCcore-13.2.0/include -I/app/software/cairo/1.18.0-GCCcore-13.2.0/include -I/app/software/libGLU/9.0.3-GCCcore-13.2.0/include -I/app/software/Mesa/23.1.9-GCCcore-13.2.0/include -I/app/software/X11/20231019-GCCcore-13.2.0/include -I/app/software/pkgconf/2.0.3-GCCcore-13.2.0/include -I/app/software/FFTW/3.3.10-GCC-13.2.0/include -I/app/software/FlexiBLAS/3.3.1-GCC-13.2.0/include -I/app/software/FlexiBLAS/3.3.1-GCC-13.2.0/include/flexiblas    -fpic  -O2 -ftree-vectorize -march=native -fno-math-errno   -c mutate.cpp -o mutate.o\n",
      "g++ -std=gnu++17 -I\"/app/software/R/4.4.0-gfbf-2023b/lib/R/include\" -DNDEBUG   -I/app/software/FriBidi/1.0.13-GCCcore-13.2.0/include -I/app/software/HarfBuzz/8.2.2-GCCcore-13.2.0/include -I/app/software/Tk/8.6.13-GCCcore-13.2.0/include -I/app/software/cURL/8.3.0-GCCcore-13.2.0/include -I/app/software/OpenSSL/1.1/include -I/app/software/libgit2/1.7.2-GCCcore-13.2.0/include -I/app/software/Java/11.0.2/include -I/app/software/LibTIFF/4.6.0-GCCcore-13.2.0/include -I/app/software/libjpeg-turbo/3.0.1-GCCcore-13.2.0/include -I/app/software/libpng/1.6.40-GCCcore-13.2.0/include -I/app/software/PCRE2/10.42-GCCcore-13.2.0/include -I/app/software/SQLite/3.43.1-GCCcore-13.2.0/include -I/app/software/zlib/1.2.13-GCCcore-13.2.0/include -I/app/software/XZ/5.4.4-GCCcore-13.2.0/include -I/app/software/bzip2/1.0.8-GCCcore-13.2.0/include -I/app/software/ncurses/6.4-GCCcore-13.2.0/include -I/app/software/libreadline/8.2-GCCcore-13.2.0/include -I/app/software/cairo/1.18.0-GCCcore-13.2.0/include -I/app/software/libGLU/9.0.3-GCCcore-13.2.0/include -I/app/software/Mesa/23.1.9-GCCcore-13.2.0/include -I/app/software/X11/20231019-GCCcore-13.2.0/include -I/app/software/pkgconf/2.0.3-GCCcore-13.2.0/include -I/app/software/FFTW/3.3.10-GCC-13.2.0/include -I/app/software/FlexiBLAS/3.3.1-GCC-13.2.0/include -I/app/software/FlexiBLAS/3.3.1-GCC-13.2.0/include/flexiblas    -fpic  -O2 -ftree-vectorize -march=native -fno-math-errno   -c reconstruct.cpp -o reconstruct.o\n",
      "g++ -std=gnu++17 -I\"/app/software/R/4.4.0-gfbf-2023b/lib/R/include\" -DNDEBUG   -I/app/software/FriBidi/1.0.13-GCCcore-13.2.0/include -I/app/software/HarfBuzz/8.2.2-GCCcore-13.2.0/include -I/app/software/Tk/8.6.13-GCCcore-13.2.0/include -I/app/software/cURL/8.3.0-GCCcore-13.2.0/include -I/app/software/OpenSSL/1.1/include -I/app/software/libgit2/1.7.2-GCCcore-13.2.0/include -I/app/software/Java/11.0.2/include -I/app/software/LibTIFF/4.6.0-GCCcore-13.2.0/include -I/app/software/libjpeg-turbo/3.0.1-GCCcore-13.2.0/include -I/app/software/libpng/1.6.40-GCCcore-13.2.0/include -I/app/software/PCRE2/10.42-GCCcore-13.2.0/include -I/app/software/SQLite/3.43.1-GCCcore-13.2.0/include -I/app/software/zlib/1.2.13-GCCcore-13.2.0/include -I/app/software/XZ/5.4.4-GCCcore-13.2.0/include -I/app/software/bzip2/1.0.8-GCCcore-13.2.0/include -I/app/software/ncurses/6.4-GCCcore-13.2.0/include -I/app/software/libreadline/8.2-GCCcore-13.2.0/include -I/app/software/cairo/1.18.0-GCCcore-13.2.0/include -I/app/software/libGLU/9.0.3-GCCcore-13.2.0/include -I/app/software/Mesa/23.1.9-GCCcore-13.2.0/include -I/app/software/X11/20231019-GCCcore-13.2.0/include -I/app/software/pkgconf/2.0.3-GCCcore-13.2.0/include -I/app/software/FFTW/3.3.10-GCC-13.2.0/include -I/app/software/FlexiBLAS/3.3.1-GCC-13.2.0/include -I/app/software/FlexiBLAS/3.3.1-GCC-13.2.0/include/flexiblas    -fpic  -O2 -ftree-vectorize -march=native -fno-math-errno   -c slice.cpp -o slice.o\n",
      "g++ -std=gnu++17 -I\"/app/software/R/4.4.0-gfbf-2023b/lib/R/include\" -DNDEBUG   -I/app/software/FriBidi/1.0.13-GCCcore-13.2.0/include -I/app/software/HarfBuzz/8.2.2-GCCcore-13.2.0/include -I/app/software/Tk/8.6.13-GCCcore-13.2.0/include -I/app/software/cURL/8.3.0-GCCcore-13.2.0/include -I/app/software/OpenSSL/1.1/include -I/app/software/libgit2/1.7.2-GCCcore-13.2.0/include -I/app/software/Java/11.0.2/include -I/app/software/LibTIFF/4.6.0-GCCcore-13.2.0/include -I/app/software/libjpeg-turbo/3.0.1-GCCcore-13.2.0/include -I/app/software/libpng/1.6.40-GCCcore-13.2.0/include -I/app/software/PCRE2/10.42-GCCcore-13.2.0/include -I/app/software/SQLite/3.43.1-GCCcore-13.2.0/include -I/app/software/zlib/1.2.13-GCCcore-13.2.0/include -I/app/software/XZ/5.4.4-GCCcore-13.2.0/include -I/app/software/bzip2/1.0.8-GCCcore-13.2.0/include -I/app/software/ncurses/6.4-GCCcore-13.2.0/include -I/app/software/libreadline/8.2-GCCcore-13.2.0/include -I/app/software/cairo/1.18.0-GCCcore-13.2.0/include -I/app/software/libGLU/9.0.3-GCCcore-13.2.0/include -I/app/software/Mesa/23.1.9-GCCcore-13.2.0/include -I/app/software/X11/20231019-GCCcore-13.2.0/include -I/app/software/pkgconf/2.0.3-GCCcore-13.2.0/include -I/app/software/FFTW/3.3.10-GCC-13.2.0/include -I/app/software/FlexiBLAS/3.3.1-GCC-13.2.0/include -I/app/software/FlexiBLAS/3.3.1-GCC-13.2.0/include/flexiblas    -fpic  -O2 -ftree-vectorize -march=native -fno-math-errno   -c summarise.cpp -o summarise.o\n",
      "g++ -std=gnu++17 -shared -L/app/software/R/4.4.0-gfbf-2023b/lib64/R/lib -L/app/software/FriBidi/1.0.13-GCCcore-13.2.0/lib64 -L/app/software/FriBidi/1.0.13-GCCcore-13.2.0/lib -L/app/software/HarfBuzz/8.2.2-GCCcore-13.2.0/lib64 -L/app/software/HarfBuzz/8.2.2-GCCcore-13.2.0/lib -L/app/software/Tk/8.6.13-GCCcore-13.2.0/lib64 -L/app/software/Tk/8.6.13-GCCcore-13.2.0/lib -L/app/software/cURL/8.3.0-GCCcore-13.2.0/lib64 -L/app/software/cURL/8.3.0-GCCcore-13.2.0/lib -L/app/software/OpenSSL/1.1/lib64 -L/app/software/OpenSSL/1.1/lib -L/app/software/libgit2/1.7.2-GCCcore-13.2.0/lib64 -L/app/software/libgit2/1.7.2-GCCcore-13.2.0/lib -L/app/software/Java/11.0.2/lib -L/app/software/LibTIFF/4.6.0-GCCcore-13.2.0/lib64 -L/app/software/LibTIFF/4.6.0-GCCcore-13.2.0/lib -L/app/software/libjpeg-turbo/3.0.1-GCCcore-13.2.0/lib64 -L/app/software/libjpeg-turbo/3.0.1-GCCcore-13.2.0/lib -L/app/software/libpng/1.6.40-GCCcore-13.2.0/lib64 -L/app/software/libpng/1.6.40-GCCcore-13.2.0/lib -L/app/software/PCRE2/10.42-GCCcore-13.2.0/lib64 -L/app/software/PCRE2/10.42-GCCcore-13.2.0/lib -L/app/software/SQLite/3.43.1-GCCcore-13.2.0/lib64 -L/app/software/SQLite/3.43.1-GCCcore-13.2.0/lib -L/app/software/zlib/1.2.13-GCCcore-13.2.0/lib64 -L/app/software/zlib/1.2.13-GCCcore-13.2.0/lib -L/app/software/XZ/5.4.4-GCCcore-13.2.0/lib64 -L/app/software/XZ/5.4.4-GCCcore-13.2.0/lib -L/app/software/bzip2/1.0.8-GCCcore-13.2.0/lib64 -L/app/software/bzip2/1.0.8-GCCcore-13.2.0/lib -L/app/software/ncurses/6.4-GCCcore-13.2.0/lib64 -L/app/software/ncurses/6.4-GCCcore-13.2.0/lib -L/app/software/libreadline/8.2-GCCcore-13.2.0/lib64 -L/app/software/libreadline/8.2-GCCcore-13.2.0/lib -L/app/software/cairo/1.18.0-GCCcore-13.2.0/lib64 -L/app/software/cairo/1.18.0-GCCcore-13.2.0/lib -L/app/software/libGLU/9.0.3-GCCcore-13.2.0/lib64 -L/app/software/libGLU/9.0.3-GCCcore-13.2.0/lib -L/app/software/Mesa/23.1.9-GCCcore-13.2.0/lib64 -L/app/software/Mesa/23.1.9-GCCcore-13.2.0/lib -L/app/software/X11/20231019-GCCcore-13.2.0/lib64 -L/app/software/X11/20231019-GCCcore-13.2.0/lib -L/app/software/pkgconf/2.0.3-GCCcore-13.2.0/lib64 -L/app/software/pkgconf/2.0.3-GCCcore-13.2.0/lib -L/app/software/FFTW/3.3.10-GCC-13.2.0/lib64 -L/app/software/FFTW/3.3.10-GCC-13.2.0/lib -L/app/software/FlexiBLAS/3.3.1-GCC-13.2.0/lib64 -L/app/software/FlexiBLAS/3.3.1-GCC-13.2.0/lib -L/app/software/GCCcore/13.2.0/lib64 -L/app/software/GCCcore/13.2.0/lib -o dplyr.so chop.o filter.o funs.o group_by.o group_data.o imports.o init.o mask.o mutate.o reconstruct.o slice.o summarise.o -L/app/software/R/4.4.0-gfbf-2023b/lib64/R/lib -lR\n"
     ]
    },
    {
     "name": "stderr",
     "output_type": "stream",
     "text": [
      "installing to /home/bnguyen3/R/x86_64-pc-linux-gnu-library/4.4/00LOCK-dplyr/00new/dplyr/libs\n",
      "** R\n",
      "** data\n",
      "*** moving datasets to lazyload DB\n",
      "** inst\n",
      "** byte-compile and prepare package for lazy loading\n",
      "** help\n",
      "*** installing help indices\n",
      "*** copying figures\n",
      "** building package indices\n",
      "** installing vignettes\n",
      "** testing if installed package can be loaded from temporary location\n",
      "** checking absolute paths in shared objects and dynamic libraries\n",
      "** testing if installed package can be loaded from final location\n",
      "** testing if installed package keeps a record of temporary installation path\n",
      "* DONE (dplyr)\n",
      "R[write to console]: \n",
      "\n",
      "R[write to console]: \n",
      "R[write to console]: The downloaded source packages are in\n",
      "\t‘/loc/scratch/66127193/Rtmp8lvOFP/downloaded_packages’\n",
      "R[write to console]: \n",
      "R[write to console]: \n",
      "\n"
     ]
    }
   ],
   "source": [
    "utils = importr('utils')\n",
    "utils.install_packages('dplyr')\n",
    "dplyr = importr('dplyr')"
   ]
  },
  {
   "cell_type": "code",
   "execution_count": 34,
   "metadata": {
    "execution": {
     "iopub.execute_input": "2024-10-25T16:38:54.657925Z",
     "iopub.status.busy": "2024-10-25T16:38:54.657063Z",
     "iopub.status.idle": "2024-10-25T16:38:54.665215Z",
     "shell.execute_reply": "2024-10-25T16:38:54.664000Z",
     "shell.execute_reply.started": "2024-10-25T16:38:54.657863Z"
    }
   },
   "outputs": [],
   "source": [
    "# utils.install_packages('CellChat')"
   ]
  },
  {
   "cell_type": "code",
   "execution_count": 35,
   "metadata": {
    "execution": {
     "iopub.execute_input": "2024-10-25T16:38:57.573445Z",
     "iopub.status.busy": "2024-10-25T16:38:57.572835Z",
     "iopub.status.idle": "2024-10-25T16:38:57.578085Z",
     "shell.execute_reply": "2024-10-25T16:38:57.577135Z",
     "shell.execute_reply.started": "2024-10-25T16:38:57.573389Z"
    }
   },
   "outputs": [],
   "source": [
    "# CellChat = importr('CellChat')"
   ]
  },
  {
   "cell_type": "code",
   "execution_count": 24,
   "metadata": {
    "execution": {
     "iopub.execute_input": "2024-10-23T22:38:06.020295Z",
     "iopub.status.busy": "2024-10-23T22:38:06.019641Z",
     "iopub.status.idle": "2024-10-23T22:38:06.048042Z",
     "shell.execute_reply": "2024-10-23T22:38:06.047261Z",
     "shell.execute_reply.started": "2024-10-23T22:38:06.020237Z"
    }
   },
   "outputs": [],
   "source": [
    "robjects.r('data(iris)')"
   ]
  },
  {
   "cell_type": "code",
   "execution_count": 28,
   "metadata": {
    "execution": {
     "iopub.execute_input": "2024-10-23T22:44:39.085638Z",
     "iopub.status.busy": "2024-10-23T22:44:39.084485Z",
     "iopub.status.idle": "2024-10-23T22:44:39.094586Z",
     "shell.execute_reply": "2024-10-23T22:44:39.093669Z",
     "shell.execute_reply.started": "2024-10-23T22:44:39.085551Z"
    }
   },
   "outputs": [
    {
     "name": "stdout",
     "output_type": "stream",
     "text": [
      "[1] 3\n"
     ]
    }
   ],
   "source": [
    "robjects.r('''\n",
    "\n",
    "a <- 1\n",
    "b <- 2\n",
    "\n",
    "print(a+b)\n",
    "\n",
    "\n",
    "\n",
    "''')"
   ]
  },
  {
   "cell_type": "code",
   "execution_count": 31,
   "metadata": {
    "execution": {
     "iopub.execute_input": "2024-10-23T22:47:47.903821Z",
     "iopub.status.busy": "2024-10-23T22:47:47.903193Z",
     "iopub.status.idle": "2024-10-23T22:47:47.951233Z",
     "shell.execute_reply": "2024-10-23T22:47:47.950421Z",
     "shell.execute_reply.started": "2024-10-23T22:47:47.903765Z"
    }
   },
   "outputs": [
    {
     "data": {
      "text/html": [
       "\n",
       "<emph>DataFrame</emph> with 3 rows and\n",
       "  3 columns:\n",
       "<table class=\"docutils\">\n",
       "  <thead>\n",
       "    <tr class=\"rpy2_names\">\n",
       "      <th></th>\n",
       "      <th></th>\n",
       "      <th>Species</th>\n",
       "      <th>Avg_Sepal_Length</th>\n",
       "      <th>Avg_Sepal_Width</th>\n",
       "    </tr>\n",
       "  </thead>\n",
       "  <tbody>\n",
       "    <tr>\n",
       "      <td class=\"rpy2_rowname\">0</td>\n",
       "        <td class=\"rpy2_names\">1</td>\n",
       "      <td>setosa</td>\n",
       "      <td>5.006</td>\n",
       "      <td>3.428</td>\n",
       "    </tr>\n",
       "    <tr>\n",
       "      <td class=\"rpy2_rowname\">1</td>\n",
       "        <td class=\"rpy2_names\">2</td>\n",
       "      <td>versicolor</td>\n",
       "      <td>5.936</td>\n",
       "      <td>2.77</td>\n",
       "    </tr>\n",
       "    <tr>\n",
       "      <td class=\"rpy2_rowname\">2</td>\n",
       "        <td class=\"rpy2_names\">3</td>\n",
       "      <td>virginica</td>\n",
       "      <td>6.588</td>\n",
       "      <td>2.974</td>\n",
       "    </tr>\n",
       "  </tbody>\n",
       "</table>"
      ],
      "text/plain": [
       "<rpy2.robjects.vectors.DataFrame object at 0x14eac9691090> [19]\n",
       "R classes: ('tbl_df', 'tbl', 'data.frame')\n",
       "[IntSexpVector, FloatSexpVector, FloatSexpVector]\n",
       "  Species: <class 'rpy2.rinterface.IntSexpVector'>\n",
       "  <rpy2.rinterface.IntSexpVector object at 0x14eace965210> [13]\n",
       "  Avg_Sepal_Length: <class 'rpy2.rinterface.FloatSexpVector'>\n",
       "  <rpy2.rinterface.FloatSexpVector object at 0x14eacdbba210> [14]\n",
       "  Avg_Sepal_Width: <class 'rpy2.rinterface.FloatSexpVector'>\n",
       "  <rpy2.rinterface.FloatSexpVector object at 0x14eacdd3fcd0> [14]"
      ]
     },
     "execution_count": 31,
     "metadata": {},
     "output_type": "execute_result"
    }
   ],
   "source": [
    "robjects.r('''\n",
    "\n",
    "library(dplyr)\n",
    "\n",
    "# Summarize the iris dataset\n",
    "iris_summary <- iris %>%\n",
    "    group_by(Species) %>% \n",
    "    summarise(\n",
    "        Avg_Sepal_Length = mean(Sepal.Length),\n",
    "        Avg_Sepal_Width = mean(Sepal.Width)\n",
    "    )\n",
    "\n",
    "iris_summary\n",
    "''')"
   ]
  },
  {
   "cell_type": "code",
   "execution_count": null,
   "metadata": {},
   "outputs": [],
   "source": []
  },
  {
   "cell_type": "markdown",
   "metadata": {
    "jp-MarkdownHeadingCollapsed": true
   },
   "source": [
    "## Playground"
   ]
  },
  {
   "cell_type": "code",
   "execution_count": 1,
   "metadata": {
    "execution": {
     "iopub.execute_input": "2024-10-23T22:09:41.769620Z",
     "iopub.status.busy": "2024-10-23T22:09:41.768974Z",
     "iopub.status.idle": "2024-10-23T22:09:43.867537Z",
     "shell.execute_reply": "2024-10-23T22:09:43.866704Z",
     "shell.execute_reply.started": "2024-10-23T22:09:41.769550Z"
    }
   },
   "outputs": [],
   "source": [
    "from functools import partial\n",
    "from rpy2.ipython import html\n",
    "html.html_rdataframe=partial(html.html_rdataframe, table_class=\"docutils\")"
   ]
  },
  {
   "cell_type": "code",
   "execution_count": 2,
   "metadata": {
    "execution": {
     "iopub.execute_input": "2024-10-23T22:10:38.594689Z",
     "iopub.status.busy": "2024-10-23T22:10:38.593839Z",
     "iopub.status.idle": "2024-10-23T22:10:39.457098Z",
     "shell.execute_reply": "2024-10-23T22:10:39.455904Z",
     "shell.execute_reply.started": "2024-10-23T22:10:38.594626Z"
    }
   },
   "outputs": [],
   "source": [
    "from rpy2.robjects.packages import importr\n",
    "utils = importr('utils')\n",
    "\n",
    "dataf = utils.read_csv('https://raw.githubusercontent.com/jakevdp/PythonDataScienceHandbook/'\n",
    "                       'master/notebooks_v1/data/california_cities.csv')"
   ]
  },
  {
   "cell_type": "code",
   "execution_count": 3,
   "metadata": {
    "execution": {
     "iopub.execute_input": "2024-10-23T22:11:00.826962Z",
     "iopub.status.busy": "2024-10-23T22:11:00.825503Z",
     "iopub.status.idle": "2024-10-23T22:11:00.832760Z",
     "shell.execute_reply": "2024-10-23T22:11:00.831777Z",
     "shell.execute_reply.started": "2024-10-23T22:11:00.826870Z"
    }
   },
   "outputs": [],
   "source": [
    "import rpy2.ipython.html\n",
    "rpy2.ipython.html.init_printing()"
   ]
  },
  {
   "cell_type": "code",
   "execution_count": 4,
   "metadata": {
    "execution": {
     "iopub.execute_input": "2024-10-23T22:11:16.602019Z",
     "iopub.status.busy": "2024-10-23T22:11:16.601340Z",
     "iopub.status.idle": "2024-10-23T22:11:16.621780Z",
     "shell.execute_reply": "2024-10-23T22:11:16.621141Z",
     "shell.execute_reply.started": "2024-10-23T22:11:16.601963Z"
    }
   },
   "outputs": [
    {
     "data": {
      "text/html": [
       "\n",
       "<emph>DataFrame</emph> with 482 rows and\n",
       "  14 columns:\n",
       "<table class=\"docutils\">\n",
       "  <thead>\n",
       "    <tr class=\"rpy2_names\">\n",
       "      <th></th>\n",
       "      <th></th>\n",
       "      <th>X</th>\n",
       "      <th>city</th>\n",
       "      <th>latd</th>\n",
       "      <th>longd</th>\n",
       "      <th>...</th>\n",
       "      <th>area_water_km2</th>\n",
       "      <th>area_water_percent</th>\n",
       "    </tr>\n",
       "  </thead>\n",
       "  <tbody>\n",
       "    <tr>\n",
       "      <td class=\"rpy2_rowname\">0</td>\n",
       "        <td class=\"rpy2_names\">1</td>\n",
       "      <td>0</td>\n",
       "      <td>Adelanto</td>\n",
       "      <td>34.57611111111112</td>\n",
       "      <td>-117.43277777777779</td>\n",
       "       <td>...</td>\n",
       "      <td>0.046</td>\n",
       "      <td>0.03</td>\n",
       "    </tr>\n",
       "    <tr>\n",
       "      <td class=\"rpy2_rowname\">1</td>\n",
       "        <td class=\"rpy2_names\">2</td>\n",
       "      <td>1</td>\n",
       "      <td>AgouraHills</td>\n",
       "      <td>34.15333333333333</td>\n",
       "      <td>-118.76166666666667</td>\n",
       "       <td>...</td>\n",
       "      <td>0.076</td>\n",
       "      <td>0.37</td>\n",
       "    </tr>\n",
       "    <tr>\n",
       "      <td class=\"rpy2_rowname\">2</td>\n",
       "        <td class=\"rpy2_names\">3</td>\n",
       "      <td>2</td>\n",
       "      <td>Alameda</td>\n",
       "      <td>37.75611111111111</td>\n",
       "      <td>-122.27444444444444</td>\n",
       "       <td>...</td>\n",
       "      <td>31.983</td>\n",
       "      <td>53.79</td>\n",
       "    </tr>\n",
       "    <tr>\n",
       "      <td class=\"rpy2_rowname\">3</td>\n",
       "        <td class=\"rpy2_names\">4</td>\n",
       "      <td>3</td>\n",
       "      <td>Albany</td>\n",
       "      <td>37.886944444444445</td>\n",
       "      <td>-122.29777777777778</td>\n",
       "       <td>...</td>\n",
       "      <td>9.524</td>\n",
       "      <td>67.28</td>\n",
       "    </tr>\n",
       "    <tr>\n",
       "      <td class=\"rpy2_rowname\">4</td>\n",
       "        <td class=\"rpy2_names\">5</td>\n",
       "      <td>4</td>\n",
       "      <td>Alhambra</td>\n",
       "      <td>34.081944444444446</td>\n",
       "      <td>-118.135</td>\n",
       "       <td>...</td>\n",
       "      <td>0.003</td>\n",
       "      <td>0.01</td>\n",
       "    </tr>\n",
       "    <tr>\n",
       "      <td class=\"rpy2_rowname\">5</td>\n",
       "        <td class=\"rpy2_names\">6</td>\n",
       "      <td>5</td>\n",
       "      <td>AlisoViejo</td>\n",
       "      <td>33.575</td>\n",
       "      <td>-117.72555555555556</td>\n",
       "       <td>...</td>\n",
       "      <td>0.0</td>\n",
       "      <td>0.0</td>\n",
       "    </tr>\n",
       "    <tr>\n",
       "      <td class=\"rpy2_rowname\">6</td>\n",
       "        <td class=\"rpy2_names\">7</td>\n",
       "      <td>6</td>\n",
       "      <td>Alturas</td>\n",
       "      <td>41.48722222222222</td>\n",
       "      <td>-120.5425</td>\n",
       "       <td>...</td>\n",
       "      <td>0.036000000000000004</td>\n",
       "      <td>0.57</td>\n",
       "    </tr>\n",
       "    <tr>\n",
       "      <td class=\"rpy2_rowname\">7</td>\n",
       "        <td class=\"rpy2_names\">8</td>\n",
       "      <td>7</td>\n",
       "      <td>AmadorCity</td>\n",
       "      <td>38.419444444444444</td>\n",
       "      <td>-120.82416666666666</td>\n",
       "       <td>...</td>\n",
       "      <td>0.0</td>\n",
       "      <td>0.0</td>\n",
       "    </tr>\n",
       "    <tr>\n",
       "      <td class=\"rpy2_rowname\">...</td>\n",
       "        <td class=\"rpy2_names\">...</td>\n",
       "      <td>...</td>\n",
       "      <td>...</td>\n",
       "      <td>...</td>\n",
       "      <td>...</td>\n",
       "       <td>...</td>\n",
       "      <td>...</td>\n",
       "      <td>...</td>\n",
       "    </tr>\n",
       "    <tr>\n",
       "      <td class=\"rpy2_rowname\">480</td>\n",
       "        <td class=\"rpy2_names\">481</td>\n",
       "      <td>480</td>\n",
       "      <td>Yucaipa</td>\n",
       "      <td>34.030277777777776</td>\n",
       "      <td>-117.04861111111111</td>\n",
       "       <td>...</td>\n",
       "      <td>0.013000000000000001</td>\n",
       "      <td>0.02</td>\n",
       "    </tr>\n",
       "    <tr>\n",
       "      <td class=\"rpy2_rowname\">481</td>\n",
       "        <td class=\"rpy2_names\">482</td>\n",
       "      <td>481</td>\n",
       "      <td>YuccaValley</td>\n",
       "      <td>34.13333333333333</td>\n",
       "      <td>-116.41666666666667</td>\n",
       "       <td>...</td>\n",
       "      <td>0.0</td>\n",
       "      <td>0.0</td>\n",
       "    </tr>\n",
       "  </tbody>\n",
       "</table>"
      ],
      "text/plain": [
       "<rpy2.robjects.vectors.DataFrame object at 0x14eba00e1090> [19]\n",
       "R classes: ('data.frame',)\n",
       "[IntSexpVe..., StrSexpVe..., FloatSexp..., FloatSexp..., ..., FloatSexp..., FloatSexp..., FloatSexp..., FloatSexp...]\n",
       "  X: <class 'rpy2.robjects.vectors.IntVector'>\n",
       "  <rpy2.robjects.vectors.IntVector object at 0x14eba00e0e50> [13]\n",
       "R classes: ('integer',)\n",
       "[0, 1, 2, 3, ..., 478, 479, 480, 481]\n",
       "  city: <class 'rpy2.robjects.vectors.StrVector'>\n",
       "  <rpy2.robjects.vectors.StrVector object at 0x14ead5679810> [16]\n",
       "R classes: ('character',)\n",
       "['Adelanto', 'AgouraHi..., 'Alameda', 'Albany', ..., 'Yreka', 'YubaCity', 'Yucaipa', 'YuccaVal...]\n",
       "  latd: <class 'rpy2.robjects.vectors.FloatVector'>\n",
       "  <rpy2.robjects.vectors.FloatVector object at 0x14eba046a610> [14]\n",
       "R classes: ('numeric',)\n",
       "[34.576111, 34.153333, 37.756111, 37.886944, ..., 41.726667, 39.134722, 34.030278, 34.133333]\n",
       "  longd: <class 'rpy2.robjects.vectors.FloatVector'>\n",
       "  <rpy2.robjects.vectors.FloatVector object at 0x14eba018d210> [14]\n",
       "R classes: ('numeric',)\n",
       "[-117.432778, -118.761667, -122.274444, -122.297778, ..., -122.637500, -121.626111, -117.048611, -116.416667]\n",
       "...\n",
       "  elevation_ft: <class 'rpy2.robjects.vectors.FloatVector'>\n",
       "  <rpy2.robjects.vectors.FloatVector object at 0x14ead5682a10> [14]\n",
       "R classes: ('numeric',)\n",
       "[145.107000, 20.260000, 59.465000, 14.155000, ..., 26.036000, 37.959000, 72.244000, 103.639000]\n",
       "  population_total: <class 'rpy2.robjects.vectors.FloatVector'>\n",
       "  <rpy2.robjects.vectors.FloatVector object at 0x14ead5683c90> [14]\n",
       "R classes: ('numeric',)\n",
       "[145.062000, 20.184000, 27.482000, 4.632000, ..., 25.847000, 37.758000, 72.231000, 103.639000]\n",
       "  area_total_sq_mi: <class 'rpy2.robjects.vectors.FloatVector'>\n",
       "  <rpy2.robjects.vectors.FloatVector object at 0x14ead5683a90> [14]\n",
       "R classes: ('numeric',)\n",
       "[0.046000, 0.076000, 31.983000, 9.524000, ..., 0.188000, 0.201000, 0.013000, 0.000000]\n",
       "  area_land_sq_mi: <class 'rpy2.robjects.vectors.FloatVector'>\n",
       "  <rpy2.robjects.vectors.FloatVector object at 0x14ead5681490> [14]\n",
       "R classes: ('numeric',)\n",
       "[0.030000, 0.370000, 53.790000, 67.280000, ..., 0.720000, 0.530000, 0.020000, 0.000000]"
      ]
     },
     "execution_count": 4,
     "metadata": {},
     "output_type": "execute_result"
    }
   ],
   "source": [
    "dataf"
   ]
  },
  {
   "cell_type": "code",
   "execution_count": 12,
   "metadata": {
    "execution": {
     "iopub.execute_input": "2024-10-23T22:23:52.749705Z",
     "iopub.status.busy": "2024-10-23T22:23:52.749322Z",
     "iopub.status.idle": "2024-10-23T22:23:52.754544Z",
     "shell.execute_reply": "2024-10-23T22:23:52.753580Z",
     "shell.execute_reply.started": "2024-10-23T22:23:52.749679Z"
    }
   },
   "outputs": [
    {
     "name": "stdout",
     "output_type": "stream",
     "text": [
      "The rpy2.ipython extension is already loaded. To reload it, use:\n",
      "  %reload_ext rpy2.ipython\n"
     ]
    }
   ],
   "source": [
    "%load_ext rpy2.ipython"
   ]
  },
  {
   "cell_type": "markdown",
   "metadata": {},
   "source": [
    "From now on, code cells starting with %%R will see their content evaluated as R code. If the R code is generating figures, they will be displayed along with the rest of the output."
   ]
  },
  {
   "cell_type": "code",
   "execution_count": 18,
   "metadata": {
    "execution": {
     "iopub.execute_input": "2024-10-23T22:28:15.591049Z",
     "iopub.status.busy": "2024-10-23T22:28:15.590357Z",
     "iopub.status.idle": "2024-10-23T22:28:15.678005Z",
     "shell.execute_reply": "2024-10-23T22:28:15.676953Z",
     "shell.execute_reply.started": "2024-10-23T22:28:15.590991Z"
    }
   },
   "outputs": [
    {
     "name": "stderr",
     "output_type": "stream",
     "text": [
      "R[write to console]: Error in .External2(C_X11, paste0(\"png::\", filename), g$width, g$height,  : \n",
      "  unable to start device PNG\n",
      "\n",
      "R[write to console]: In addition: \n",
      "R[write to console]: Warning message:\n",
      "\n",
      "R[write to console]: In (function (filename = \"Rplot%03d.png\", width = 480, height = 480,  :\n",
      "R[write to console]: \n",
      " \n",
      "R[write to console]:  unable to open connection to X11 display ''\n",
      "\n"
     ]
    },
    {
     "ename": "RRuntimeError",
     "evalue": "Error in .External2(C_X11, paste0(\"png::\", filename), g$width, g$height,  : \n  unable to start device PNG\n",
     "output_type": "error",
     "traceback": [
      "\u001b[0;31m---------------------------------------------------------------------------\u001b[0m",
      "\u001b[0;31mRRuntimeError\u001b[0m                             Traceback (most recent call last)",
      "Cell \u001b[0;32mIn[18], line 1\u001b[0m\n\u001b[0;32m----> 1\u001b[0m \u001b[43mget_ipython\u001b[49m\u001b[43m(\u001b[49m\u001b[43m)\u001b[49m\u001b[38;5;241;43m.\u001b[39;49m\u001b[43mrun_cell_magic\u001b[49m\u001b[43m(\u001b[49m\u001b[38;5;124;43m'\u001b[39;49m\u001b[38;5;124;43mR\u001b[39;49m\u001b[38;5;124;43m'\u001b[39;49m\u001b[43m,\u001b[49m\u001b[43m \u001b[49m\u001b[38;5;124;43m'\u001b[39;49m\u001b[38;5;124;43m'\u001b[39;49m\u001b[43m,\u001b[49m\u001b[43m \u001b[49m\u001b[38;5;124;43m'\u001b[39;49m\u001b[38;5;124;43mprint(\u001b[39;49m\u001b[38;5;124;43m\"\u001b[39;49m\u001b[38;5;124;43mHello from R!\u001b[39;49m\u001b[38;5;124;43m\"\u001b[39;49m\u001b[38;5;124;43m)\u001b[39;49m\u001b[38;5;130;43;01m\\n\u001b[39;49;00m\u001b[38;5;124;43m'\u001b[39;49m\u001b[43m)\u001b[49m\n",
      "File \u001b[0;32m~/.conda/envs/jupyterenv/lib/python3.12/site-packages/IPython/core/interactiveshell.py:2541\u001b[0m, in \u001b[0;36mInteractiveShell.run_cell_magic\u001b[0;34m(self, magic_name, line, cell)\u001b[0m\n\u001b[1;32m   2539\u001b[0m \u001b[38;5;28;01mwith\u001b[39;00m \u001b[38;5;28mself\u001b[39m\u001b[38;5;241m.\u001b[39mbuiltin_trap:\n\u001b[1;32m   2540\u001b[0m     args \u001b[38;5;241m=\u001b[39m (magic_arg_s, cell)\n\u001b[0;32m-> 2541\u001b[0m     result \u001b[38;5;241m=\u001b[39m \u001b[43mfn\u001b[49m\u001b[43m(\u001b[49m\u001b[38;5;241;43m*\u001b[39;49m\u001b[43margs\u001b[49m\u001b[43m,\u001b[49m\u001b[43m \u001b[49m\u001b[38;5;241;43m*\u001b[39;49m\u001b[38;5;241;43m*\u001b[39;49m\u001b[43mkwargs\u001b[49m\u001b[43m)\u001b[49m\n\u001b[1;32m   2543\u001b[0m \u001b[38;5;66;03m# The code below prevents the output from being displayed\u001b[39;00m\n\u001b[1;32m   2544\u001b[0m \u001b[38;5;66;03m# when using magics with decorator @output_can_be_silenced\u001b[39;00m\n\u001b[1;32m   2545\u001b[0m \u001b[38;5;66;03m# when the last Python token in the expression is a ';'.\u001b[39;00m\n\u001b[1;32m   2546\u001b[0m \u001b[38;5;28;01mif\u001b[39;00m \u001b[38;5;28mgetattr\u001b[39m(fn, magic\u001b[38;5;241m.\u001b[39mMAGIC_OUTPUT_CAN_BE_SILENCED, \u001b[38;5;28;01mFalse\u001b[39;00m):\n",
      "File \u001b[0;32m~/.conda/envs/jupyterenv/lib/python3.12/site-packages/rpy2/ipython/rmagic.py:935\u001b[0m, in \u001b[0;36mRMagics.R\u001b[0;34m(self, line, cell, local_ns)\u001b[0m\n\u001b[1;32m    932\u001b[0m \u001b[38;5;28;01melse\u001b[39;00m:\n\u001b[1;32m    933\u001b[0m     cell_display \u001b[38;5;241m=\u001b[39m CELL_DISPLAY_DEFAULT\n\u001b[0;32m--> 935\u001b[0m tmpd \u001b[38;5;241m=\u001b[39m \u001b[38;5;28;43mself\u001b[39;49m\u001b[38;5;241;43m.\u001b[39;49m\u001b[43msetup_graphics\u001b[49m\u001b[43m(\u001b[49m\u001b[43margs\u001b[49m\u001b[43m)\u001b[49m\n\u001b[1;32m    937\u001b[0m text_output \u001b[38;5;241m=\u001b[39m \u001b[38;5;124m'\u001b[39m\u001b[38;5;124m'\u001b[39m\n\u001b[1;32m    938\u001b[0m display_data \u001b[38;5;241m=\u001b[39m []\n",
      "File \u001b[0;32m~/.conda/envs/jupyterenv/lib/python3.12/site-packages/rpy2/ipython/rmagic.py:637\u001b[0m, in \u001b[0;36mRMagics.setup_graphics\u001b[0;34m(self, args)\u001b[0m\n\u001b[1;32m    634\u001b[0m \u001b[38;5;28;01mif\u001b[39;00m \u001b[38;5;28mself\u001b[39m\u001b[38;5;241m.\u001b[39mdevice \u001b[38;5;129;01min\u001b[39;00m DEVICES_STATIC_RASTER:\n\u001b[1;32m    635\u001b[0m     \u001b[38;5;66;03m# Note: that %% is to pass into R for interpolation there.\u001b[39;00m\n\u001b[1;32m    636\u001b[0m     rfunc \u001b[38;5;241m=\u001b[39m \u001b[38;5;28mgetattr\u001b[39m(grdevices, \u001b[38;5;28mself\u001b[39m\u001b[38;5;241m.\u001b[39mdevice)\n\u001b[0;32m--> 637\u001b[0m     \u001b[43mrfunc\u001b[49m\u001b[43m(\u001b[49m\u001b[38;5;124;43mf\u001b[39;49m\u001b[38;5;124;43m'\u001b[39;49m\u001b[38;5;132;43;01m{\u001b[39;49;00m\u001b[43mtmpd_fix_slashes\u001b[49m\u001b[38;5;132;43;01m}\u001b[39;49;00m\u001b[38;5;124;43m/Rplots%%03d.\u001b[39;49m\u001b[38;5;132;43;01m{\u001b[39;49;00m\u001b[38;5;28;43mself\u001b[39;49m\u001b[38;5;241;43m.\u001b[39;49m\u001b[43mdevice\u001b[49m\u001b[38;5;132;43;01m}\u001b[39;49;00m\u001b[38;5;124;43m'\u001b[39;49m\u001b[43m,\u001b[49m\n\u001b[1;32m    638\u001b[0m \u001b[43m          \u001b[49m\u001b[38;5;241;43m*\u001b[39;49m\u001b[38;5;241;43m*\u001b[39;49m\u001b[43margdict\u001b[49m\u001b[43m)\u001b[49m\n\u001b[1;32m    639\u001b[0m \u001b[38;5;28;01melif\u001b[39;00m \u001b[38;5;28mself\u001b[39m\u001b[38;5;241m.\u001b[39mdevice \u001b[38;5;241m==\u001b[39m \u001b[38;5;124m'\u001b[39m\u001b[38;5;124msvg\u001b[39m\u001b[38;5;124m'\u001b[39m:\n\u001b[1;32m    640\u001b[0m     \u001b[38;5;28mself\u001b[39m\u001b[38;5;241m.\u001b[39mcairo\u001b[38;5;241m.\u001b[39mCairoSVG(\u001b[38;5;124mf\u001b[39m\u001b[38;5;124m'\u001b[39m\u001b[38;5;132;01m{\u001b[39;00mtmpd_fix_slashes\u001b[38;5;132;01m}\u001b[39;00m\u001b[38;5;124m/Rplot.svg\u001b[39m\u001b[38;5;124m'\u001b[39m,\n\u001b[1;32m    641\u001b[0m                         \u001b[38;5;241m*\u001b[39m\u001b[38;5;241m*\u001b[39margdict)\n",
      "File \u001b[0;32m~/.conda/envs/jupyterenv/lib/python3.12/site-packages/rpy2/robjects/functions.py:208\u001b[0m, in \u001b[0;36mSignatureTranslatedFunction.__call__\u001b[0;34m(self, *args, **kwargs)\u001b[0m\n\u001b[1;32m    206\u001b[0m         v \u001b[38;5;241m=\u001b[39m kwargs\u001b[38;5;241m.\u001b[39mpop(k)\n\u001b[1;32m    207\u001b[0m         kwargs[r_k] \u001b[38;5;241m=\u001b[39m v\n\u001b[0;32m--> 208\u001b[0m \u001b[38;5;28;01mreturn\u001b[39;00m (\u001b[38;5;28;43msuper\u001b[39;49m\u001b[43m(\u001b[49m\u001b[43mSignatureTranslatedFunction\u001b[49m\u001b[43m,\u001b[49m\u001b[43m \u001b[49m\u001b[38;5;28;43mself\u001b[39;49m\u001b[43m)\u001b[49m\n\u001b[1;32m    209\u001b[0m \u001b[43m        \u001b[49m\u001b[38;5;241;43m.\u001b[39;49m\u001b[38;5;21;43m__call__\u001b[39;49m\u001b[43m(\u001b[49m\u001b[38;5;241;43m*\u001b[39;49m\u001b[43margs\u001b[49m\u001b[43m,\u001b[49m\u001b[43m \u001b[49m\u001b[38;5;241;43m*\u001b[39;49m\u001b[38;5;241;43m*\u001b[39;49m\u001b[43mkwargs\u001b[49m\u001b[43m)\u001b[49m)\n",
      "File \u001b[0;32m~/.conda/envs/jupyterenv/lib/python3.12/site-packages/rpy2/robjects/functions.py:131\u001b[0m, in \u001b[0;36mFunction.__call__\u001b[0;34m(self, *args, **kwargs)\u001b[0m\n\u001b[1;32m    129\u001b[0m     \u001b[38;5;28;01melse\u001b[39;00m:\n\u001b[1;32m    130\u001b[0m         new_kwargs[k] \u001b[38;5;241m=\u001b[39m cv\u001b[38;5;241m.\u001b[39mpy2rpy(v)\n\u001b[0;32m--> 131\u001b[0m res \u001b[38;5;241m=\u001b[39m \u001b[38;5;28;43msuper\u001b[39;49m\u001b[43m(\u001b[49m\u001b[43mFunction\u001b[49m\u001b[43m,\u001b[49m\u001b[43m \u001b[49m\u001b[38;5;28;43mself\u001b[39;49m\u001b[43m)\u001b[49m\u001b[38;5;241;43m.\u001b[39;49m\u001b[38;5;21;43m__call__\u001b[39;49m\u001b[43m(\u001b[49m\u001b[38;5;241;43m*\u001b[39;49m\u001b[43mnew_args\u001b[49m\u001b[43m,\u001b[49m\u001b[43m \u001b[49m\u001b[38;5;241;43m*\u001b[39;49m\u001b[38;5;241;43m*\u001b[39;49m\u001b[43mnew_kwargs\u001b[49m\u001b[43m)\u001b[49m\n\u001b[1;32m    132\u001b[0m res \u001b[38;5;241m=\u001b[39m cv\u001b[38;5;241m.\u001b[39mrpy2py(res)\n\u001b[1;32m    133\u001b[0m \u001b[38;5;28;01mreturn\u001b[39;00m res\n",
      "File \u001b[0;32m~/.conda/envs/jupyterenv/lib/python3.12/site-packages/rpy2/rinterface_lib/conversion.py:45\u001b[0m, in \u001b[0;36m_cdata_res_to_rinterface.<locals>._\u001b[0;34m(*args, **kwargs)\u001b[0m\n\u001b[1;32m     44\u001b[0m \u001b[38;5;28;01mdef\u001b[39;00m \u001b[38;5;21m_\u001b[39m(\u001b[38;5;241m*\u001b[39margs, \u001b[38;5;241m*\u001b[39m\u001b[38;5;241m*\u001b[39mkwargs):\n\u001b[0;32m---> 45\u001b[0m     cdata \u001b[38;5;241m=\u001b[39m \u001b[43mfunction\u001b[49m\u001b[43m(\u001b[49m\u001b[38;5;241;43m*\u001b[39;49m\u001b[43margs\u001b[49m\u001b[43m,\u001b[49m\u001b[43m \u001b[49m\u001b[38;5;241;43m*\u001b[39;49m\u001b[38;5;241;43m*\u001b[39;49m\u001b[43mkwargs\u001b[49m\u001b[43m)\u001b[49m\n\u001b[1;32m     46\u001b[0m     \u001b[38;5;66;03m# TODO: test cdata is of the expected CType\u001b[39;00m\n\u001b[1;32m     47\u001b[0m     \u001b[38;5;28;01mreturn\u001b[39;00m _cdata_to_rinterface(cdata)\n",
      "File \u001b[0;32m~/.conda/envs/jupyterenv/lib/python3.12/site-packages/rpy2/rinterface.py:869\u001b[0m, in \u001b[0;36mSexpClosure.__call__\u001b[0;34m(self, *args, **kwargs)\u001b[0m\n\u001b[1;32m    862\u001b[0m     res \u001b[38;5;241m=\u001b[39m rmemory\u001b[38;5;241m.\u001b[39mprotect(\n\u001b[1;32m    863\u001b[0m         openrlib\u001b[38;5;241m.\u001b[39mrlib\u001b[38;5;241m.\u001b[39mR_tryEval(\n\u001b[1;32m    864\u001b[0m             call_r,\n\u001b[1;32m    865\u001b[0m             call_context\u001b[38;5;241m.\u001b[39m__sexp__\u001b[38;5;241m.\u001b[39m_cdata,\n\u001b[1;32m    866\u001b[0m             error_occured)\n\u001b[1;32m    867\u001b[0m     )\n\u001b[1;32m    868\u001b[0m     \u001b[38;5;28;01mif\u001b[39;00m error_occured[\u001b[38;5;241m0\u001b[39m]:\n\u001b[0;32m--> 869\u001b[0m         \u001b[38;5;28;01mraise\u001b[39;00m embedded\u001b[38;5;241m.\u001b[39mRRuntimeError(_rinterface\u001b[38;5;241m.\u001b[39m_geterrmessage())\n\u001b[1;32m    870\u001b[0m \u001b[38;5;28;01mreturn\u001b[39;00m res\n",
      "\u001b[0;31mRRuntimeError\u001b[0m: Error in .External2(C_X11, paste0(\"png::\", filename), g$width, g$height,  : \n  unable to start device PNG\n"
     ]
    }
   ],
   "source": [
    "%%R\n",
    "print(\"Hello from R!\")"
   ]
  },
  {
   "cell_type": "code",
   "execution_count": 15,
   "metadata": {
    "execution": {
     "iopub.execute_input": "2024-10-23T22:25:54.425472Z",
     "iopub.status.busy": "2024-10-23T22:25:54.424815Z",
     "iopub.status.idle": "2024-10-23T22:25:54.433434Z",
     "shell.execute_reply": "2024-10-23T22:25:54.432253Z",
     "shell.execute_reply.started": "2024-10-23T22:25:54.425416Z"
    }
   },
   "outputs": [
    {
     "ename": "SyntaxError",
     "evalue": "invalid syntax (372591109.py, line 13)",
     "output_type": "error",
     "traceback": [
      "\u001b[0;36m  Cell \u001b[0;32mIn[15], line 13\u001b[0;36m\u001b[0m\n\u001b[0;31m    ggplot(dataf, aes(x = x, y = y)) +\u001b[0m\n\u001b[0m                                      ^\u001b[0m\n\u001b[0;31mSyntaxError\u001b[0m\u001b[0;31m:\u001b[0m invalid syntax\n"
     ]
    }
   ],
   "source": [
    "# Load necessary R libraries and create a plot in R\n",
    "%%R\n",
    "# Install ggplot2 if needed\n",
    "# install.packages(\"ggplot2\")\n",
    "\n",
    "# Load the library\n",
    "library(ggplot2)\n",
    "\n",
    "# Create a simple data frame\n",
    "dataf <- data.frame(x = rnorm(100), y = rnorm(100))\n",
    "\n",
    "# Plot the data\n",
    "ggplot(dataf, aes(x = x, y = y)) +\n",
    "  geom_point() +\n",
    "  ggtitle(\"Scatter Plot of Random Data\") +\n",
    "  theme_minimal()\n"
   ]
  }
 ],
 "metadata": {
  "kernelspec": {
   "display_name": "Python 3 (ipykernel)",
   "language": "python",
   "name": "python3"
  },
  "language_info": {
   "codemirror_mode": {
    "name": "ipython",
    "version": 3
   },
   "file_extension": ".py",
   "mimetype": "text/x-python",
   "name": "python",
   "nbconvert_exporter": "python",
   "pygments_lexer": "ipython3",
   "version": "3.12.4"
  }
 },
 "nbformat": 4,
 "nbformat_minor": 4
}
